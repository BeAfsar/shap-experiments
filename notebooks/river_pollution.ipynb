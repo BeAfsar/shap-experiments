{
 "cells": [
  {
   "cell_type": "markdown",
   "id": "49301f42-a5d3-4ab7-bce4-eeceb384ee78",
   "metadata": {},
   "source": [
    "# River pollution problem (all objectives minimized)"
   ]
  },
  {
   "cell_type": "code",
   "execution_count": 21,
   "id": "dfde4234-624b-4746-8653-f952a708d0b4",
   "metadata": {},
   "outputs": [
    {
     "name": "stderr",
     "output_type": "stream",
     "text": [
      "Using 200 background data samples could cause slower run times. Consider using shap.sample(data, K) or shap.kmeans(data, K) to summarize the background as K samples.\n"
     ]
    },
    {
     "name": "stdout",
     "output_type": "stream",
     "text": [
      "Ideal: [-6.34000000e+00 -3.44487179e+00 -7.50000000e+00  0.00000000e+00\n",
      "  1.71409445e-03]\n",
      "Nadir: [-4.751      -2.85595261 -0.32111111  9.70666667  0.35      ]\n",
      "[1.589      0.58891919 7.17888889 9.70666667 0.34828591]\n"
     ]
    }
   ],
   "source": [
    "import numpy as np\n",
    "import pandas as pd\n",
    "import shap\n",
    "import matplotlib.pyplot as plt\n",
    "\n",
    "from desdeo_problem.problem import DiscreteDataProblem\n",
    "from desdeo_tools.scalarization import SimpleASF, DiscreteScalarizer, StomASF, PointMethodASF\n",
    "from desdeo_tools.solver import DiscreteMinimizer\n",
    "from shapley_values.explanations import *\n",
    "from shapley_values.utilities import *\n",
    "from IPython.core.display import display, HTML\n",
    "\n",
    "\n",
    "# Load and setup problem\n",
    "df = pd.read_csv(\"../data/river_pollution_10178.csv\")\n",
    "pareto_front = df.to_numpy()\n",
    "\n",
    "ideal = np.min(pareto_front[:, 0:5], axis=0)\n",
    "nadir = np.max(pareto_front[:, 0:5], axis=0)\n",
    "\n",
    "objective_names = [\"f_1\", \"f_2\", \"f_3\", \"f_4\", \"f_5\"]\n",
    "n_objectives = len(objective_names)\n",
    "\n",
    "problem = DiscreteDataProblem(df, [\"x_1\", \"x_2\"], objective_names, nadir, ideal)\n",
    "\n",
    "# asf = SimpleASF(np.array([1,1,1,1,1]))\n",
    "asf = StomASF(ideal)\n",
    "# asf = PointMethodASF(nadir, ideal)\n",
    "\n",
    "missing_data = shap.sample(pareto_front[:, 0:n_objectives], nsamples=200)\n",
    "\n",
    "# need to know reference point before generating missing data\n",
    "bb = generate_black_box(problem, asf)\n",
    "explainer = shap.KernelExplainer(bb, missing_data)\n",
    "\n",
    "normalizer = Normalizer(ideal, nadir)\n",
    "\n",
    "def plot(result, objective_names=objective_names, ymin=0, ymax=1):\n",
    "    fig = plt.figure()\n",
    "    ax = fig.add_axes([0,0,1,1])\n",
    "    ax.set_ylim(ymin, ymax)\n",
    "    ax.bar(objective_names, np.squeeze(result)) \n",
    "    plt.grid()\n",
    "    plt.show()\n",
    "\n",
    "print(f\"Ideal: {ideal}\")\n",
    "print(f\"Nadir: {nadir}\")\n",
    "print(np.abs(nadir - ideal))"
   ]
  },
  {
   "cell_type": "markdown",
   "id": "82160437-81a8-4b36-942e-bc3328a98e8f",
   "metadata": {},
   "source": [
    "## 1st iteration"
   ]
  },
  {
   "cell_type": "code",
   "execution_count": 22,
   "id": "9378ed21-cfcc-46d8-a4af-0a7e2c337467",
   "metadata": {},
   "outputs": [
    {
     "name": "stdout",
     "output_type": "stream",
     "text": [
      "Reference point: [-6.34 -3.44 -7.5   0.    0.  ]\n",
      "Result: [[-5.74608375 -2.91090165 -6.9068179   0.20337037  0.13540173]]\n"
     ]
    },
    {
     "data": {
      "image/png": "[encoded data removed]",
      "text/plain": [
       "<Figure size 432x288 with 1 Axes>"
      ]
     },
     "metadata": {
      "needs_background": "light"
     },
     "output_type": "display_data"
    }
   ],
   "source": [
    "ref_point = np.array([-6.34, -3.44, -7.5, 0, 0])\n",
    "\n",
    "result = bb(np.atleast_2d(ref_point))\n",
    "shap_values = np.array(explainer.shap_values(ref_point))\n",
    "\n",
    "print(f\"Reference point: {ref_point}\")\n",
    "print(f\"Result: {result}\")\n",
    "plot(result, ymin=np.min(ideal))\n",
    "\n",
    "#print(f\"SHAP values:\\n{shap_values}\")"
   ]
  },
  {
   "cell_type": "markdown",
   "id": "debcc9d0-138c-48cb-bf9e-ad70e5461c13",
   "metadata": {},
   "source": [
    "## Selecting the objective to be improved #1"
   ]
  },
  {
   "cell_type": "code",
   "execution_count": 23,
   "id": "537c1189-c117-4615-9949-fd8ee15d8145",
   "metadata": {},
   "outputs": [
    {
     "data": {
      "text/html": [
       "<p style=font-size:20px>Explanation: Each objective value in the solution is worse when compared to the reference point. The reference point given was too demanding. The component Objective 3 in the reference point had the most impairing effect on objective Objective 1 in the solution.\n",
       "Suggestion: Try improving the component Objective 1 and impairing the component Objective 3.</p>"
      ],
      "text/plain": [
       "<IPython.core.display.HTML object>"
      ]
     },
     "metadata": {},
     "output_type": "display_data"
    }
   ],
   "source": [
    "to_improve = 0\n",
    "suggestion_str, _, _, _ = how_to_improve_objective_i(shap_values, to_improve, ref_point, result)\n",
    "\n",
    "display(HTML(f\"<p style=font-size:20px>{suggestion_str}</p>\"))"
   ]
  },
  {
   "cell_type": "markdown",
   "id": "211aa281-2928-42d5-bd2e-990055de25a7",
   "metadata": {},
   "source": [
    "## 2nd iteration"
   ]
  },
  {
   "cell_type": "code",
   "execution_count": 24,
   "id": "acb9f63b-08f6-427c-9674-0233e3608578",
   "metadata": {},
   "outputs": [
    {
     "name": "stdout",
     "output_type": "stream",
     "text": [
      "Reference point: [-6.  -3.2 -6.   0.1  0.1]\n",
      "Result: [[-6.00345962 -2.91928927 -6.26229508  0.21316082  0.20174433]]\n"
     ]
    },
    {
     "data": {
      "image/png": "[encoded data removed]",
      "text/plain": [
       "<Figure size 432x288 with 1 Axes>"
      ]
     },
     "metadata": {
      "needs_background": "light"
     },
     "output_type": "display_data"
    }
   ],
   "source": [
    "ref_point = np.array([-6, -3.2, -6.0, 0.1, 0.1])\n",
    "\n",
    "result = bb(np.atleast_2d(ref_point))\n",
    "shap_values = np.array(explainer.shap_values(ref_point))\n",
    "\n",
    "print(f\"Reference point: {ref_point}\")\n",
    "print(f\"Result: {result}\")\n",
    "plot(result, ymin=np.min(ideal))"
   ]
  },
  {
   "cell_type": "markdown",
   "id": "e92e413b-6e86-4047-9f75-3c3fab965f4a",
   "metadata": {},
   "source": [
    "## Selecting the objective to be improved #2"
   ]
  },
  {
   "cell_type": "markdown",
   "id": "d100cfff-c2cc-4958-b14a-01c6863c1208",
   "metadata": {},
   "source": [
    "# to_improve = 3\n",
    "suggestion_str, _, _, _ = how_to_improve_objective_i(shap_values, to_improve, ref_point, result)\n",
    "\n",
    "display(HTML(f\"<p style=font-size:20px>{suggestion_str}</p>\"))"
   ]
  },
  {
   "cell_type": "markdown",
   "id": "349f5dd2-a8bb-4e3c-aa2c-862f4a062a7f",
   "metadata": {
    "tags": []
   },
   "source": [
    "## 3rd teration"
   ]
  },
  {
   "cell_type": "code",
   "execution_count": 25,
   "id": "8a556312",
   "metadata": {},
   "outputs": [
    {
     "name": "stdout",
     "output_type": "stream",
     "text": [
      "Reference point: [-6.  -3.2 -6.   1.   0.1]\n",
      "Result: [[-5.90002751 -3.05750649 -6.59663711  1.20663092  0.15617952]]\n"
     ]
    },
    {
     "data": {
      "image/png": "[encoded data removed]",
      "text/plain": [
       "<Figure size 432x288 with 1 Axes>"
      ]
     },
     "metadata": {
      "needs_background": "light"
     },
     "output_type": "display_data"
    }
   ],
   "source": [
    "ref_point = np.array([-6, -3.2, -6.0, 1, 0.1])\n",
    "\n",
    "result = bb(np.atleast_2d(ref_point))\n",
    "shap_values = np.array(explainer.shap_values(ref_point))\n",
    "\n",
    "print(f\"Reference point: {ref_point}\")\n",
    "print(f\"Result: {result}\")\n",
    "plot(result, ymin=np.min(ideal))"
   ]
  },
  {
   "cell_type": "markdown",
   "id": "9405bb1b-6f3a-4f9c-82a9-a6d9e2672c29",
   "metadata": {},
   "source": [
    "## Selecting the objective to be improved #3"
   ]
  },
  {
   "cell_type": "code",
   "execution_count": 26,
   "id": "7f3af450",
   "metadata": {},
   "outputs": [
    {
     "data": {
      "text/html": [
       "<p style=font-size:20px>Explanation: The objective Objective 2 was most improved in the solution by the component Objective 3 and most impaired by the component Objective 5 in the reference point.\n",
       "Suggestion: Try improving the component Objective 2 and impairing the component Objective 5.</p>"
      ],
      "text/plain": [
       "<IPython.core.display.HTML object>"
      ]
     },
     "metadata": {},
     "output_type": "display_data"
    }
   ],
   "source": [
    "to_improve = 1\n",
    "suggestion_str, _, _, _ = how_to_improve_objective_i(shap_values, to_improve, ref_point, result)\n",
    "\n",
    "display(HTML(f\"<p style=font-size:20px>{suggestion_str}</p>\"))"
   ]
  },
  {
   "cell_type": "markdown",
   "id": "386437da-5d38-447e-bc83-1a166631efb4",
   "metadata": {
    "tags": []
   },
   "source": [
    "##  4th iteration"
   ]
  },
  {
   "cell_type": "code",
   "execution_count": 27,
   "id": "5c2ea7f6",
   "metadata": {},
   "outputs": [
    {
     "name": "stdout",
     "output_type": "stream",
     "text": [
      "Reference point: [-6.   -3.2  -5.5   0.8   0.12]\n",
      "Result: [[-5.95206821 -3.06336352 -6.44639728  1.24607038  0.17910494]]\n"
     ]
    },
    {
     "data": {
      "image/png": "[encoded data removed]",
      "text/plain": [
       "<Figure size 432x288 with 1 Axes>"
      ]
     },
     "metadata": {
      "needs_background": "light"
     },
     "output_type": "display_data"
    }
   ],
   "source": [
    "ref_point = np.array([-6, -3.2, -5.5, 0.8, 0.12])\n",
    "\n",
    "result = bb(np.atleast_2d(ref_point))\n",
    "shap_values = np.array(explainer.shap_values(ref_point))\n",
    "\n",
    "print(f\"Reference point: {ref_point}\")\n",
    "print(f\"Result: {result}\")\n",
    "plot(result, ymin=np.min(ideal))"
   ]
  },
  {
   "cell_type": "markdown",
   "id": "77ac28a0-7bb1-4b56-95f5-68d69a1826e9",
   "metadata": {},
   "source": [
    "## Selecting the objective to be improved #5"
   ]
  },
  {
   "cell_type": "code",
   "execution_count": 28,
   "id": "9371ab6f",
   "metadata": {},
   "outputs": [
    {
     "data": {
      "text/html": [
       "<p style=font-size:20px>Explanation: None of the objectives in the reference point had an impairing effect on objective Objective 4 in the solution. Objective Objective 1 in the reference point had the least improving effect on objective Objective 4 in the solution.\n",
       "Suggestion: Try improving the component Objective 4 and impairing the component Objective 1.</p>"
      ],
      "text/plain": [
       "<IPython.core.display.HTML object>"
      ]
     },
     "metadata": {},
     "output_type": "display_data"
    }
   ],
   "source": [
    "to_improve = 3\n",
    "suggestion_str, _, _, _ = how_to_improve_objective_i(shap_values, to_improve, ref_point, result)\n",
    "\n",
    "display(HTML(f\"<p style=font-size:20px>{suggestion_str}</p>\"))"
   ]
  },
  {
   "cell_type": "markdown",
   "id": "8e9f64c9-d4a1-494a-9a3b-6685d407d083",
   "metadata": {
    "tags": []
   },
   "source": [
    "##  5th iteration"
   ]
  },
  {
   "cell_type": "code",
   "execution_count": 29,
   "id": "bbcc45d3",
   "metadata": {},
   "outputs": [
    {
     "name": "stdout",
     "output_type": "stream",
     "text": [
      "Reference point: [-6.   -3.2  -5.5   0.8   0.12]\n",
      "Result: [[-5.95206821 -3.06336352 -6.44639728  1.24607038  0.17910494]]\n"
     ]
    },
    {
     "data": {
      "image/png": "[encoded data removed]",
      "text/plain": [
       "<Figure size 432x288 with 1 Axes>"
      ]
     },
     "metadata": {
      "needs_background": "light"
     },
     "output_type": "display_data"
    }
   ],
   "source": [
    "ref_point = np.array([-6, -3.2, -5.5, 0.8, 0.12])\n",
    "\n",
    "result = bb(np.atleast_2d(ref_point))\n",
    "shap_values = np.array(explainer.shap_values(ref_point))\n",
    "\n",
    "print(f\"Reference point: {ref_point}\")\n",
    "print(f\"Result: {result}\")\n",
    "plot(result, ymin=np.min(ideal))"
   ]
  },
  {
   "cell_type": "markdown",
   "id": "a0e2c973-78c2-4c56-ae04-efe10db1fe7f",
   "metadata": {},
   "source": [
    "## Selecting the objective to be improved #5"
   ]
  },
  {
   "cell_type": "code",
   "execution_count": 30,
   "id": "86811180",
   "metadata": {},
   "outputs": [
    {
     "data": {
      "text/html": [
       "<p style=font-size:20px>Explanation: None of the objectives in the reference point had an impairing effect on objective Objective 4 in the solution. Objective Objective 1 in the reference point had the least improving effect on objective Objective 4 in the solution.\n",
       "Suggestion: Try improving the component Objective 4 and impairing the component Objective 1.</p>"
      ],
      "text/plain": [
       "<IPython.core.display.HTML object>"
      ]
     },
     "metadata": {},
     "output_type": "display_data"
    }
   ],
   "source": [
    "to_improve = 3\n",
    "suggestion_str, _, _, _ = how_to_improve_objective_i(shap_values, to_improve, ref_point, result)\n",
    "\n",
    "display(HTML(f\"<p style=font-size:20px>{suggestion_str}</p>\"))"
   ]
  },
  {
   "cell_type": "markdown",
   "id": "cf632d40-60ba-4817-8481-e8f1c95a6839",
   "metadata": {
    "tags": []
   },
   "source": [
    "##  6th iteration"
   ]
  },
  {
   "cell_type": "code",
   "execution_count": 31,
   "id": "6f09afdf",
   "metadata": {},
   "outputs": [
    {
     "name": "stdout",
     "output_type": "stream",
     "text": [
      "Reference point: [-6.   -3.2  -5.5   0.8   0.12]\n",
      "Result: [[-5.95206821 -3.06336352 -6.44639728  1.24607038  0.17910494]]\n"
     ]
    },
    {
     "data": {
      "image/png": "[encoded data removed]",
      "text/plain": [
       "<Figure size 432x288 with 1 Axes>"
      ]
     },
     "metadata": {
      "needs_background": "light"
     },
     "output_type": "display_data"
    }
   ],
   "source": [
    "ref_point = np.array([-6, -3.2, -5.5, 0.8, 0.12])\n",
    "\n",
    "result = bb(np.atleast_2d(ref_point))\n",
    "shap_values = np.array(explainer.shap_values(ref_point))\n",
    "\n",
    "print(f\"Reference point: {ref_point}\")\n",
    "print(f\"Result: {result}\")\n",
    "plot(result, ymin=np.min(ideal))"
   ]
  },
  {
   "cell_type": "code",
   "execution_count": null,
   "id": "b4d47fbb-12e6-417b-8124-d1adcf51c35b",
   "metadata": {},
   "outputs": [],
   "source": []
  }
 ],
 "metadata": {
  "interpreter": {
   "hash": "e19c06653c8a59aba8cf3ae2b2d419ac93ef107eac01843e1de1b653cb920d83"
  },
  "kernelspec": {
   "display_name": "SHAP",
   "language": "python",
   "name": "shap"
  },
  "language_info": {
   "codemirror_mode": {
    "name": "ipython",
    "version": 3
   },
   "file_extension": ".py",
   "mimetype": "text/x-python",
   "name": "python",
   "nbconvert_exporter": "python",
   "pygments_lexer": "ipython3",
   "version": "3.8.12"
  }
 },
 "nbformat": 4,
 "nbformat_minor": 5
}
