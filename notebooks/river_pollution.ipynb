{
 "cells": [
  {
   "cell_type": "markdown",
   "id": "64e8a20e-9fe7-403c-a72b-4010d2964844",
   "metadata": {},
   "source": [
    "# River pollution probelm (all objectives minimized)"
   ]
  },
  {
   "cell_type": "code",
   "execution_count": 38,
   "id": "dfde4234-624b-4746-8653-f952a708d0b4",
   "metadata": {},
   "outputs": [
    {
     "name": "stderr",
     "output_type": "stream",
     "text": [
      "Using 2000 background data samples could cause slower run times. Consider using shap.sample(data, K) or shap.kmeans(data, K) to summarize the background as K samples.\n"
     ]
    },
    {
     "name": "stdout",
     "output_type": "stream",
     "text": [
      "Ideal: [-6.34000000e+00 -2.86434153e+00 -7.50000000e+00 -1.16266667e+01\n",
      "  8.00540857e-03]\n",
      "Nadir: [-4.751      -2.76221532 -0.32111111 -1.92        0.35      ]\n",
      "[1.589      0.10212621 7.17888889 9.70666667 0.34199459]\n",
      "[0.3178     0.02042524 1.43577778 1.94133333 0.06839892]\n"
     ]
    }
   ],
   "source": [
    "import numpy as np\n",
    "import pandas as pd\n",
    "import shap\n",
    "import matplotlib.pyplot as plt\n",
    "\n",
    "from desdeo_problem.problem import DiscreteDataProblem\n",
    "from desdeo_tools.scalarization import SimpleASF, DiscreteScalarizer, StomASF, PointMethodASF\n",
    "from desdeo_tools.solver import DiscreteMinimizer\n",
    "from shapley_values.explanations import *\n",
    "from shapley_values.utilities import *\n",
    "from IPython.core.display import display, HTML\n",
    "\n",
    "\n",
    "# Load and setup problem\n",
    "df = pd.read_csv(\"../data/river_pollution_2500.csv\")\n",
    "pareto_front = df.to_numpy()\n",
    "\n",
    "ideal = np.min(pareto_front[:, 0:5], axis=0)\n",
    "nadir = np.max(pareto_front[:, 0:5], axis=0)\n",
    "\n",
    "objective_names = [\"f_1\", \"f_2\", \"f_3\", \"f_4\", \"f_5\"]\n",
    "\n",
    "problem = DiscreteDataProblem(df, [\"x_1\", \"x_2\"], objective_names, nadir, ideal)\n",
    "\n",
    "# asf = SimpleASF(np.array([1,1,1,1,1]))\n",
    "asf = StomASF(ideal)\n",
    "# asf = PointMethodASF(nadir, ideal)\n",
    "\n",
    "# local missing data\n",
    "# 5% buffer area\n",
    "buffer_multi = 0.20\n",
    "buffer = buffer_multi * np.abs((nadir - ideal))\n",
    "\n",
    "# need to know reference point before generating missing data\n",
    "ref_point = (ideal + nadir) / 2\n",
    "missing_data = generate_missing_data(2000, ref_point - buffer, ref_point + buffer)\n",
    "bb = generate_black_box(problem, asf)\n",
    "explainer = shap.KernelExplainer(bb, missing_data)\n",
    "\n",
    "normalizer = Normalizer(ideal, nadir)\n",
    "\n",
    "def plot(result, objective_names=objective_names, ymin=0, ymax=1):\n",
    "    fig = plt.figure()\n",
    "    ax = fig.add_axes([0,0,1,1])\n",
    "    ax.set_ylim(ymin, ymax)\n",
    "    ax.bar(objective_names, np.squeeze(result)) \n",
    "    plt.grid()\n",
    "    plt.show()\n",
    "    \n",
    "print(f\"Ideal: {ideal}\")\n",
    "print(f\"Nadir: {nadir}\")\n",
    "print(np.abs(nadir - ideal))\n",
    "print(buffer)"
   ]
  },
  {
   "cell_type": "markdown",
   "id": "8f7cb191-bed9-4a26-9390-6a00fa6abdea",
   "metadata": {},
   "source": [
    "## Initial solution"
   ]
  },
  {
   "cell_type": "code",
   "execution_count": 39,
   "id": "9378ed21-cfcc-46d8-a4af-0a7e2c337467",
   "metadata": {},
   "outputs": [
    {
     "name": "stdout",
     "output_type": "stream",
     "text": [
      "Reference point: [-5.5455     -2.81327842 -3.91055556 -6.77333333  0.1790027 ]\n"
     ]
    },
    {
     "data": {
      "image/png": "[encoded data removed]",
      "text/plain": [
       "<Figure size 432x288 with 1 Axes>"
      ]
     },
     "metadata": {
      "needs_background": "light"
     },
     "output_type": "display_data"
    },
    {
     "name": "stdout",
     "output_type": "stream",
     "text": [
      "Result: [[-6.06902002 -2.79626487 -5.95243843 -4.5917756   0.25866192]]\n",
      "SHAP values:\n",
      "[[-1.213804   -1.21302338 -1.21302338 -1.21302338 -1.21302338]\n",
      " [-0.55925297 -0.55890302 -0.55890302 -0.55890302 -0.55890302]\n",
      " [-1.19048769 -1.1899776  -1.1899776  -1.1899776  -1.1899776 ]\n",
      " [-0.91835512 -0.91758627 -0.91758627 -0.91758627 -0.91758627]\n",
      " [ 0.05173238  0.05169387  0.05169387  0.05169387  0.05169387]]\n"
     ]
    }
   ],
   "source": [
    "result = bb(np.atleast_2d(ref_point))\n",
    "shap_values = np.array(explainer.shap_values(ref_point))\n",
    "\n",
    "print(f\"Reference point: {ref_point}\")\n",
    "plot(result, ymin=np.min(ideal))\n",
    "print(f\"Result: {result}\")\n",
    "print(f\"SHAP values:\\n{shap_values}\")"
   ]
  },
  {
   "cell_type": "markdown",
   "id": "9762c5f5-64d4-4322-ba4c-dd7c0c9cea7d",
   "metadata": {},
   "source": [
    "## How to improve the initial solution"
   ]
  },
  {
   "cell_type": "code",
   "execution_count": 69,
   "id": "537c1189-c117-4615-9949-fd8ee15d8145",
   "metadata": {},
   "outputs": [
    {
     "data": {
      "text/html": [
       "<h3>Suggestion</h3><p style=font-size:20px>Objective 3 was improved most by the value given for objective 1 and impaired most by the value given to objective 5.Therefore, try keeping the value of objective 1 as is while worsening the value of objective 5 to improve the value of objective 3.</p>"
      ],
      "text/plain": [
       "<IPython.core.display.HTML object>"
      ]
     },
     "metadata": {},
     "output_type": "display_data"
    }
   ],
   "source": [
    "to_improve = 2\n",
    "# suggestion_str = how_to_improve_objective_i(normalizer.scale(shap_values), to_improve)[0]\n",
    "\n",
    "suggestion_str = how_to_improve_objective_i(shap_values, to_improve)[0]\n",
    "\n",
    "display(HTML(f\"<h3>Suggestion</h3><p style=font-size:20px>{suggestion_str}</p>\"))"
   ]
  },
  {
   "cell_type": "markdown",
   "id": "eed23455-2547-44f2-becd-6c080ffdaeaa",
   "metadata": {},
   "source": [
    "## New reference point and missing data"
   ]
  },
  {
   "cell_type": "code",
   "execution_count": 71,
   "id": "acb9f63b-08f6-427c-9674-0233e3608578",
   "metadata": {},
   "outputs": [
    {
     "data": {
      "image/png": "[encoded data removed]",
      "text/plain": [
       "<Figure size 432x288 with 1 Axes>"
      ]
     },
     "metadata": {
      "needs_background": "light"
     },
     "output_type": "display_data"
    },
    {
     "name": "stdout",
     "output_type": "stream",
     "text": [
      "[[-6.24501043 -2.7996763  -4.08065729 -6.15082645  0.30815437]]\n"
     ]
    }
   ],
   "source": [
    "new_ref_point = np.copy(ref_point)\n",
    "new_ref_point[4] += buffer[4]\n",
    "# new_ref_point[4] -= buffer[4]\n",
    "\n",
    "new_result = bb(np.atleast_2d(new_ref_point))\n",
    "\n",
    "plot(new_result, ymin=np.min(ideal))\n",
    "print(new_result)"
   ]
  },
  {
   "cell_type": "markdown",
   "id": "a5d29edf-624e-49e7-8942-888994c8cd8d",
   "metadata": {},
   "source": [
    "## Difference"
   ]
  },
  {
   "cell_type": "code",
   "execution_count": 72,
   "id": "e59510b6-73ba-4519-bd27-46af28375b25",
   "metadata": {},
   "outputs": [
    {
     "data": {
      "image/png": "[encoded data removed]",
      "text/plain": [
       "<Figure size 432x288 with 1 Axes>"
      ]
     },
     "metadata": {
      "needs_background": "light"
     },
     "output_type": "display_data"
    }
   ],
   "source": [
    "plot(new_result - result, ymin=np.min(ideal))"
   ]
  },
  {
   "cell_type": "code",
   "execution_count": null,
   "id": "6decb048-4387-46fd-a5a9-c9ca41eaccf9",
   "metadata": {},
   "outputs": [],
   "source": []
  }
 ],
 "metadata": {
  "kernelspec": {
   "display_name": "shap-stuff",
   "language": "python",
   "name": "shap-stuff"
  },
  "language_info": {
   "codemirror_mode": {
    "name": "ipython",
    "version": 3
   },
   "file_extension": ".py",
   "mimetype": "text/x-python",
   "name": "python",
   "nbconvert_exporter": "python",
   "pygments_lexer": "ipython3",
   "version": "3.9.7"
  }
 },
 "nbformat": 4,
 "nbformat_minor": 5
}
