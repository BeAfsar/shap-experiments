{
 "cells": [
  {
   "cell_type": "markdown",
   "id": "a676a0da-d6af-4b2c-9aef-7133adab2975",
   "metadata": {},
   "source": [
    "# Forest management problem"
   ]
  },
  {
   "cell_type": "code",
   "execution_count": 54,
   "id": "af3099c0-1d36-43db-ad72-d31f38c2f664",
   "metadata": {},
   "outputs": [
    {
     "name": "stderr",
     "output_type": "stream",
     "text": [
      "Using 200 background data samples could cause slower run times. Consider using shap.sample(data, K) or shap.kmeans(data, K) to summarize the background as K samples.\n"
     ]
    },
    {
     "name": "stdout",
     "output_type": "stream",
     "text": [
      "Ideal: [6.28549125e+07 8.26913286e+09 3.24361169e+04]\n",
      "Nadir: [1.87693838e+07 6.73323709e+09 2.13938867e+04]\n"
     ]
    }
   ],
   "source": [
    "import numpy as np\n",
    "import pandas as pd\n",
    "import shap\n",
    "import matplotlib.pyplot as plt\n",
    "\n",
    "from desdeo_problem.problem import DiscreteDataProblem\n",
    "from desdeo_tools.scalarization import SimpleASF, DiscreteScalarizer, StomASF, PointMethodASF\n",
    "from desdeo_tools.solver import DiscreteMinimizer\n",
    "from shapley_values.explanations import *\n",
    "from shapley_values.utilities import *\n",
    "from IPython.core.display import display, HTML\n",
    "\n",
    "# parameters\n",
    "## the ASF used\n",
    "ASF = PointMethodASF\n",
    "\n",
    "# Load and setup problem (all objectives are defined to be maximized, so we multiply the whole dataframe by -1)\n",
    "df = -1*pd.read_csv(\"../data/forest.csv\")\n",
    "pareto_front = df.to_numpy()\n",
    "\n",
    "# compute the ideal and nadir\n",
    "ideal = np.min(pareto_front[:, 0:3], axis=0)\n",
    "nadir = np.max(pareto_front[:, 0:3], axis=0)\n",
    "\n",
    "objective_names = [\"Income\", \"Carbon\", \"Habitat index\"]\n",
    "n_objectives = 3\n",
    "\n",
    "# we do not know the original decision variables, so we use a single 'dummy' variable just to make sure DiscreteDataProblem works correctly with the data\n",
    "problem = DiscreteDataProblem(df, \"dummy\", objective_names, nadir, ideal)\n",
    "\n",
    "asf = ASF(nadir, ideal)\n",
    "\n",
    "# sample the Pareto front for missing data to be used while computing SHAP values\n",
    "missing_data = shap.sample(pareto_front[:, 0:n_objectives], nsamples=200)\n",
    "\n",
    "# generate the method to be used, or the black-box\n",
    "bb = generate_black_box(problem, asf)\n",
    "\n",
    "# define the explainer that computed SHAP values (use kernel SHAP)\n",
    "explainer = shap.KernelExplainer(bb, missing_data)\n",
    "\n",
    "def scale_forest_data(data):\n",
    "    multipliers = np.array([1e-7, 1e-9, 1e-4])\n",
    "    return multipliers * data\n",
    "\n",
    "def plot(result, objective_names=[\"Income (10^7)\", \"Carbon (10^9)\", \"Habitat index (10^4)\"], ymin=0, ymax=1):\n",
    "    fig = plt.figure()\n",
    "    ax = fig.add_axes([0,0,1,1])\n",
    "    ax.set_ylim(ymin, ymax)\n",
    "    ax.bar(objective_names, np.squeeze(result)) \n",
    "    plt.grid()\n",
    "    plt.show()\n",
    "    \n",
    "print(f\"Ideal: {-ideal}\")\n",
    "print(f\"Nadir: {-nadir}\")"
   ]
  },
  {
   "cell_type": "code",
   "execution_count": 56,
   "id": "26d306b9-3fc2-4267-b1aa-471a9e468cc1",
   "metadata": {},
   "outputs": [
    {
     "name": "stdout",
     "output_type": "stream",
     "text": [
      "Reference point: [-4.08121481e+07 -7.50118497e+09 -2.69150018e+04]\n",
      "Projection: [[-4.69889797e+07 -7.74019668e+09 -2.83623684e+04]]\n"
     ]
    },
    {
     "data": {
      "image/png": "[encoded data removed]",
      "text/plain": [
       "<Figure size 432x288 with 1 Axes>"
      ]
     },
     "metadata": {
      "needs_background": "light"
     },
     "output_type": "display_data"
    }
   ],
   "source": [
    "ref_point = (ideal + nadir) / 2.0\n",
    "\n",
    "projection = bb(np.atleast_2d(ref_point))\n",
    "shap_values = np.array(explainer.shap_values(ref_point))\n",
    "\n",
    "print(f\"Reference point: {ref_point}\")\n",
    "print(f\"Projection: {projection}\")\n",
    "\n",
    "plot(-scale_forest_data(projection), ymax=np.max(-scale_forest_data(ideal)))"
   ]
  },
  {
   "cell_type": "code",
   "execution_count": 58,
   "id": "c1428b30-6438-451a-95c5-4201c80ec657",
   "metadata": {},
   "outputs": [
    {
     "data": {
      "text/html": [
       "<p style=font-size:20px>Each objective value in the solution had a bettern value when compared to the reference point. The reference point was pessimistic. The component Objective 2 in the refence point had the least improving effect on the objective Objective 1 in the solution.\n",
       "Suggestion: Try improving the component Objective 1 and impairing the component Objective 2.</p>"
      ],
      "text/plain": [
       "<IPython.core.display.HTML object>"
      ]
     },
     "metadata": {},
     "output_type": "display_data"
    }
   ],
   "source": [
    "to_improve = 0\n",
    "suggestion_str, _, _, _ = how_to_improve_objective_i(shap_values, to_improve, ref_point, projection)\n",
    "\n",
    "display(HTML(f\"<p style=font-size:20px>{suggestion_str}</p>\"))"
   ]
  },
  {
   "cell_type": "code",
   "execution_count": null,
   "id": "e0fa2d82-b2ea-42e5-ac5e-69814c8c6345",
   "metadata": {},
   "outputs": [],
   "source": []
  }
 ],
 "metadata": {
  "kernelspec": {
   "display_name": "SHAP",
   "language": "python",
   "name": "shap"
  },
  "language_info": {
   "codemirror_mode": {
    "name": "ipython",
    "version": 3
   },
   "file_extension": ".py",
   "mimetype": "text/x-python",
   "name": "python",
   "nbconvert_exporter": "python",
   "pygments_lexer": "ipython3",
   "version": "3.8.12"
  }
 },
 "nbformat": 4,
 "nbformat_minor": 5
}
