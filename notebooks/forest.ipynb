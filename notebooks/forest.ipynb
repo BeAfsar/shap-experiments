{
 "cells": [
  {
   "cell_type": "markdown",
   "id": "a676a0da-d6af-4b2c-9aef-7133adab2975",
   "metadata": {},
   "source": [
    "# Forest management problem"
   ]
  },
  {
   "cell_type": "code",
   "execution_count": 36,
   "id": "af3099c0-1d36-43db-ad72-d31f38c2f664",
   "metadata": {},
   "outputs": [
    {
     "name": "stderr",
     "output_type": "stream",
     "text": [
      "Using 200 background data samples could cause slower run times. Consider using shap.sample(data, K) or shap.kmeans(data, K) to summarize the background as K samples.\n"
     ]
    }
   ],
   "source": [
    "import numpy as np\n",
    "import pandas as pd\n",
    "import shap\n",
    "import matplotlib.pyplot as plt\n",
    "\n",
    "from desdeo_problem.problem import DiscreteDataProblem\n",
    "from desdeo_tools.scalarization import SimpleASF, DiscreteScalarizer, StomASF, PointMethodASF\n",
    "from desdeo_tools.solver import DiscreteMinimizer\n",
    "from shapley_values.explanations import *\n",
    "from shapley_values.utilities import *\n",
    "from IPython.core.display import display, HTML\n",
    "\n",
    "# parameters\n",
    "## the ASF used\n",
    "ASF = PointMethodASF\n",
    "\n",
    "# Load and setup problem (all objectives are defined to be maximized, so we multiply the whole dataframe by -1)\n",
    "df = -1*pd.read_csv(\"../data/forest.csv\")\n",
    "pareto_front = df.to_numpy()\n",
    "\n",
    "# compute the ideal and nadir\n",
    "ideal = np.min(pareto_front[:, 0:3], axis=0)\n",
    "nadir = np.max(pareto_front[:, 0:3], axis=0)\n",
    "\n",
    "objective_names = [\"Income\", \"Carbon\", \"Habitat index\"]\n",
    "n_objectives = 3\n",
    "\n",
    "# we do not know the original decision variables, so we use a single 'dummy' variable just to make sure DiscreteDataProblem works correctly with the data\n",
    "problem = DiscreteDataProblem(df, \"dummy\", objective_names, nadir, ideal)\n",
    "\n",
    "asf = ASF(nadir, ideal)\n",
    "\n",
    "# sample the Pareto front for missing data to be used while computing SHAP values\n",
    "missing_data = shap.sample(pareto_front[:, 0:n_objectives], nsamples=200)\n",
    "\n",
    "# generate the method to be used, or the black-box\n",
    "bb = generate_black_box(problem, asf)\n",
    "\n",
    "# define the explainer that computed SHAP values (use kernel SHAP)\n",
    "explainer = shap.KernelExplainer(bb, missing_data)\n",
    "\n",
    "def plot(result, objective_names=objective_names, ymin=0, ymax=1):\n",
    "    fig = plt.figure()\n",
    "    ax = fig.add_axes([0,0,1,1])\n",
    "    ax.set_ylim(ymin, ymax)\n",
    "    ax.bar(objective_names, np.squeeze(result)) \n",
    "    plt.grid()\n",
    "    plt.show()"
   ]
  },
  {
   "cell_type": "code",
   "execution_count": 35,
   "id": "26d306b9-3fc2-4267-b1aa-471a9e468cc1",
   "metadata": {},
   "outputs": [
    {
     "data": {
      "text/html": [
       "<div>\n",
       "<style scoped>\n",
       "    .dataframe tbody tr th:only-of-type {\n",
       "        vertical-align: middle;\n",
       "    }\n",
       "\n",
       "    .dataframe tbody tr th {\n",
       "        vertical-align: top;\n",
       "    }\n",
       "\n",
       "    .dataframe thead th {\n",
       "        text-align: right;\n",
       "    }\n",
       "</style>\n",
       "<table border=\"1\" class=\"dataframe\">\n",
       "  <thead>\n",
       "    <tr style=\"text-align: right;\">\n",
       "      <th></th>\n",
       "      <th>Income</th>\n",
       "      <th>Carbon</th>\n",
       "      <th>Habitat index</th>\n",
       "      <th>dummy</th>\n",
       "    </tr>\n",
       "  </thead>\n",
       "  <tbody>\n",
       "    <tr>\n",
       "      <th>0</th>\n",
       "      <td>-4.107322e+07</td>\n",
       "      <td>-8.145972e+09</td>\n",
       "      <td>-28086.252430</td>\n",
       "      <td>-0.0</td>\n",
       "    </tr>\n",
       "    <tr>\n",
       "      <th>1</th>\n",
       "      <td>-4.072116e+07</td>\n",
       "      <td>-8.131148e+09</td>\n",
       "      <td>-28417.766144</td>\n",
       "      <td>-0.0</td>\n",
       "    </tr>\n",
       "    <tr>\n",
       "      <th>2</th>\n",
       "      <td>-4.030586e+07</td>\n",
       "      <td>-8.113703e+09</td>\n",
       "      <td>-28751.763921</td>\n",
       "      <td>-0.0</td>\n",
       "    </tr>\n",
       "    <tr>\n",
       "      <th>3</th>\n",
       "      <td>-3.984705e+07</td>\n",
       "      <td>-8.094358e+09</td>\n",
       "      <td>-29094.496953</td>\n",
       "      <td>-0.0</td>\n",
       "    </tr>\n",
       "    <tr>\n",
       "      <th>4</th>\n",
       "      <td>-3.932061e+07</td>\n",
       "      <td>-8.072229e+09</td>\n",
       "      <td>-29445.502566</td>\n",
       "      <td>-0.0</td>\n",
       "    </tr>\n",
       "    <tr>\n",
       "      <th>...</th>\n",
       "      <td>...</td>\n",
       "      <td>...</td>\n",
       "      <td>...</td>\n",
       "      <td>...</td>\n",
       "    </tr>\n",
       "    <tr>\n",
       "      <th>1723</th>\n",
       "      <td>-6.285491e+07</td>\n",
       "      <td>-6.734194e+09</td>\n",
       "      <td>-21565.769627</td>\n",
       "      <td>-0.0</td>\n",
       "    </tr>\n",
       "    <tr>\n",
       "      <th>1724</th>\n",
       "      <td>-6.285491e+07</td>\n",
       "      <td>-6.734194e+09</td>\n",
       "      <td>-21565.773676</td>\n",
       "      <td>-0.0</td>\n",
       "    </tr>\n",
       "    <tr>\n",
       "      <th>1725</th>\n",
       "      <td>-6.285491e+07</td>\n",
       "      <td>-6.734194e+09</td>\n",
       "      <td>-21565.773676</td>\n",
       "      <td>-0.0</td>\n",
       "    </tr>\n",
       "    <tr>\n",
       "      <th>1726</th>\n",
       "      <td>-6.285491e+07</td>\n",
       "      <td>-6.734194e+09</td>\n",
       "      <td>-21565.773676</td>\n",
       "      <td>-0.0</td>\n",
       "    </tr>\n",
       "    <tr>\n",
       "      <th>1727</th>\n",
       "      <td>-6.284428e+07</td>\n",
       "      <td>-6.745651e+09</td>\n",
       "      <td>-21806.021397</td>\n",
       "      <td>-0.0</td>\n",
       "    </tr>\n",
       "  </tbody>\n",
       "</table>\n",
       "<p>1728 rows × 4 columns</p>\n",
       "</div>"
      ],
      "text/plain": [
       "            Income        Carbon  Habitat index  dummy\n",
       "0    -4.107322e+07 -8.145972e+09  -28086.252430   -0.0\n",
       "1    -4.072116e+07 -8.131148e+09  -28417.766144   -0.0\n",
       "2    -4.030586e+07 -8.113703e+09  -28751.763921   -0.0\n",
       "3    -3.984705e+07 -8.094358e+09  -29094.496953   -0.0\n",
       "4    -3.932061e+07 -8.072229e+09  -29445.502566   -0.0\n",
       "...            ...           ...            ...    ...\n",
       "1723 -6.285491e+07 -6.734194e+09  -21565.769627   -0.0\n",
       "1724 -6.285491e+07 -6.734194e+09  -21565.773676   -0.0\n",
       "1725 -6.285491e+07 -6.734194e+09  -21565.773676   -0.0\n",
       "1726 -6.285491e+07 -6.734194e+09  -21565.773676   -0.0\n",
       "1727 -6.284428e+07 -6.745651e+09  -21806.021397   -0.0\n",
       "\n",
       "[1728 rows x 4 columns]"
      ]
     },
     "execution_count": 35,
     "metadata": {},
     "output_type": "execute_result"
    }
   ],
   "source": [
    "df"
   ]
  },
  {
   "cell_type": "code",
   "execution_count": 30,
   "id": "c1428b30-6438-451a-95c5-4201c80ec657",
   "metadata": {},
   "outputs": [
    {
     "data": {
      "text/plain": [
       "array([4.10732250e+07, 8.14597175e+09, 2.87517639e+04, 0.00000000e+00])"
      ]
     },
     "execution_count": 30,
     "metadata": {},
     "output_type": "execute_result"
    }
   ],
   "source": [
    "nadir"
   ]
  },
  {
   "cell_type": "code",
   "execution_count": null,
   "id": "e0fa2d82-b2ea-42e5-ac5e-69814c8c6345",
   "metadata": {},
   "outputs": [],
   "source": []
  }
 ],
 "metadata": {
  "kernelspec": {
   "display_name": "SHAP",
   "language": "python",
   "name": "shap"
  },
  "language_info": {
   "codemirror_mode": {
    "name": "ipython",
    "version": 3
   },
   "file_extension": ".py",
   "mimetype": "text/x-python",
   "name": "python",
   "nbconvert_exporter": "python",
   "pygments_lexer": "ipython3",
   "version": "3.8.12"
  }
 },
 "nbformat": 4,
 "nbformat_minor": 5
}
