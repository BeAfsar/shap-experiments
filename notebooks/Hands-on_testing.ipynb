{
 "cells": [
  {
   "cell_type": "markdown",
   "id": "64e8a20e-9fe7-403c-a72b-4010d2964844",
   "metadata": {},
   "source": [
    "# Simple case with DTLZ2 (5 variables, 3 objectives, all to be minimized)\n",
    "\n",
    "In this experiment, we will consider a discrete sample of 2000 non-dominated solutions for the DTLZ2 problem with 5 variables and 3 objectives to be minimized simultaneously."
   ]
  },
  {
   "cell_type": "code",
   "execution_count": 6,
   "id": "dfde4234-624b-4746-8653-f952a708d0b4",
   "metadata": {},
   "outputs": [
    {
     "name": "stderr",
     "output_type": "stream",
     "text": [
      "Using 200 background data samples could cause slower run times. Consider using shap.sample(data, K) or shap.kmeans(data, K) to summarize the background as K samples.\n"
     ]
    }
   ],
   "source": [
    "import numpy as np\n",
    "import pandas as pd\n",
    "import shap\n",
    "import matplotlib.pyplot as plt\n",
    "\n",
    "from desdeo_problem.problem import DiscreteDataProblem\n",
    "from desdeo_tools.scalarization import SimpleASF, DiscreteScalarizer\n",
    "from desdeo_tools.solver import DiscreteMinimizer\n",
    "from shapley_values.explanations import *\n",
    "from shapley_values.utilities import *\n",
    "from IPython.core.display import display, HTML\n",
    "\n",
    "\n",
    "# Load and setup problem\n",
    "df = pd.read_csv(\"../data/DTLZ2_5x_3f.csv\")\n",
    "pareto_front = df.to_numpy()\n",
    "\n",
    "ideal = np.min(pareto_front[:, 0:3], axis=0)\n",
    "nadir = np.max(pareto_front[:, 0:3], axis=0)\n",
    "\n",
    "objective_names = [\"f1\", \"f2\", \"f3\"]\n",
    "\n",
    "problem = DiscreteDataProblem(df, [\"x1\", \"x2\", \"x3\", \"x4\", \"x5\"], objective_names, nadir, ideal)\n",
    "\n",
    "asf = SimpleASF(np.array([1,1,1]))\n",
    "\n",
    "missing_data = generate_missing_data(200, ideal, nadir)\n",
    "bb = generate_black_box(problem, asf)\n",
    "explainer = shap.KernelExplainer(bb, missing_data)\n",
    "\n",
    "def plot(result, objective_names=objective_names, ymin=0, ymax=1):\n",
    "    fig = plt.figure()\n",
    "    ax = fig.add_axes([0,0,1,1])\n",
    "    ax.set_ylim(ymin, ymax)\n",
    "    ax.bar(objective_names, np.squeeze(result)) \n",
    "    plt.grid()\n",
    "    plt.show()"
   ]
  },
  {
   "cell_type": "markdown",
   "id": "8f7cb191-bed9-4a26-9390-6a00fa6abdea",
   "metadata": {},
   "source": [
    "## Initial reference point and solution"
   ]
  },
  {
   "cell_type": "code",
   "execution_count": 7,
   "id": "9378ed21-cfcc-46d8-a4af-0a7e2c337467",
   "metadata": {},
   "outputs": [
    {
     "name": "stdout",
     "output_type": "stream",
     "text": [
      "[[0.18160054 0.18038883 0.18038883]\n",
      " [0.16109185 0.15988505 0.15988505]\n",
      " [0.22857247 0.22674362 0.22674362]]\n",
      "[[0.18160054 0.18038883 0.18038883]\n",
      " [0.16109185 0.15988505 0.15988505]\n",
      " [0.22857247 0.22674362 0.22674362]]\n"
     ]
    }
   ],
   "source": [
    "normalizer = Normalizer(np.array([0, 0, 0]), np.array([1, 1, 1]))\n",
    "\n",
    "ref_point = np.array([0.55, 0.44, 0.66])\n",
    "result = bb(np.atleast_2d(ref_point))\n",
    "shap_values = np.array(explainer.shap_values(ref_point))\n",
    "shap_values_scaled = normalizer.scale(shap_values)\n",
    "\n",
    "print(shap_values)\n",
    "print(shap_values_scaled)"
   ]
  },
  {
   "cell_type": "markdown",
   "id": "9762c5f5-64d4-4322-ba4c-dd7c0c9cea7d",
   "metadata": {},
   "source": [
    "## How to improve the initial solution"
   ]
  },
  {
   "cell_type": "code",
   "execution_count": 8,
   "id": "537c1189-c117-4615-9949-fd8ee15d8145",
   "metadata": {},
   "outputs": [
    {
     "data": {
      "text/html": [
       "<h3>Suggestion</h3><p style=font-size:20px>Objective 3 was improved most by the value given for objective 2 and impaired most by the value given to objective 1.Therefore, try keeping the value of objective 2 as is while worsening the value of objective 1 to improve the value of objective 3.</p>"
      ],
      "text/plain": [
       "<IPython.core.display.HTML object>"
      ]
     },
     "metadata": {},
     "output_type": "display_data"
    }
   ],
   "source": [
    "to_improve = 2\n",
    "suggestion_str = how_to_improve_objective_i(shap_values, to_improve)[0]\n",
    "\n",
    "display(HTML(f\"<h3>Suggestion</h3><p style=font-size:20px>{suggestion_str}</p>\"))"
   ]
  },
  {
   "cell_type": "markdown",
   "id": "eed23455-2547-44f2-becd-6c080ffdaeaa",
   "metadata": {},
   "source": [
    "## After suggestion"
   ]
  },
  {
   "cell_type": "code",
   "execution_count": 4,
   "id": "acb9f63b-08f6-427c-9674-0233e3608578",
   "metadata": {},
   "outputs": [
    {
     "data": {
      "image/png": "[encoded data removed]",
      "text/plain": [
       "<Figure size 432x288 with 1 Axes>"
      ]
     },
     "metadata": {
      "needs_background": "light"
     },
     "output_type": "display_data"
    },
    {
     "name": "stdout",
     "output_type": "stream",
     "text": [
      "[[0.67341571 0.36737485 0.64378475]]\n"
     ]
    }
   ],
   "source": [
    "new_ref_point = np.array([0.70, 0.44, 0.66])\n",
    "new_result = bb(np.atleast_2d(new_ref_point))\n",
    "\n",
    "plot(new_result)\n",
    "print(new_result)"
   ]
  },
  {
   "cell_type": "markdown",
   "id": "a5d29edf-624e-49e7-8942-888994c8cd8d",
   "metadata": {},
   "source": [
    "## Difference"
   ]
  },
  {
   "cell_type": "code",
   "execution_count": 5,
   "id": "e59510b6-73ba-4519-bd27-46af28375b25",
   "metadata": {},
   "outputs": [
    {
     "data": {
      "image/png": "[encoded data removed]",
      "text/plain": [
       "<Figure size 432x288 with 1 Axes>"
      ]
     },
     "metadata": {
      "needs_background": "light"
     },
     "output_type": "display_data"
    }
   ],
   "source": [
    "plot(new_result - result, ymin=-0.5)"
   ]
  },
  {
   "cell_type": "code",
   "execution_count": null,
   "id": "6decb048-4387-46fd-a5a9-c9ca41eaccf9",
   "metadata": {},
   "outputs": [],
   "source": []
  }
 ],
 "metadata": {
  "kernelspec": {
   "display_name": "shap-stuff",
   "language": "python",
   "name": "shap-stuff"
  },
  "language_info": {
   "codemirror_mode": {
    "name": "ipython",
    "version": 3
   },
   "file_extension": ".py",
   "mimetype": "text/x-python",
   "name": "python",
   "nbconvert_exporter": "python",
   "pygments_lexer": "ipython3",
   "version": "3.9.7"
  }
 },
 "nbformat": 4,
 "nbformat_minor": 5
}
