{
 "cells": [
  {
   "cell_type": "code",
   "execution_count": 5,
   "id": "983677ea-f384-454d-a87d-f8482be8a8ac",
   "metadata": {},
   "outputs": [
    {
     "name": "stdout",
     "output_type": "stream",
     "text": [
      "The autoreload extension is already loaded. To reload it, use:\n",
      "  %reload_ext autoreload\n"
     ]
    }
   ],
   "source": [
    "%load_ext autoreload\n",
    "%autoreload 2\n",
    "\n",
    "import shap\n",
    "from desdeo_problem.problem import DiscreteDataProblem\n",
    "from desdeo_tools.scalarization import SimpleASF, DiscreteScalarizer\n",
    "from desdeo_tools.solver import DiscreteMinimizer\n",
    "from shapley_values.explanations import why_worst, why_best, why_objective_i, largest_conflict, how_to_improve_objective_i\n",
    "import pandas as pd\n",
    "import numpy as np\n",
    "\n",
    "df = pd.read_csv(\"../data/DTLZ2_5x_3f.csv\")\n",
    "pareto_f = df.to_numpy()\n",
    "\n",
    "ideal = np.min(pareto_f[:, 0:3], axis=0)\n",
    "nadir = np.max(pareto_f[:, 0:3], axis=0)\n",
    "\n",
    "problem = DiscreteDataProblem(df, [\"x1\", \"x2\", \"x3\", \"x4\", \"x5\"], [\"f1\", \"f2\", \"f3\"], nadir, ideal)\n",
    "\n",
    "asf = SimpleASF(np.array([1,1,1]))\n",
    "\n"
   ]
  },
  {
   "cell_type": "code",
   "execution_count": 6,
   "id": "c0828047-df0b-43be-93c0-09e7a0eaf74a",
   "metadata": {},
   "outputs": [],
   "source": [
    "def black_box(ref_points, problem=problem, asf=asf):\n",
    "    res = np.zeros(ref_points.shape)\n",
    "    for (i, ref_point) in enumerate(ref_points):\n",
    "        scalarizer = DiscreteScalarizer(asf, scalarizer_args={\"reference_point\": np.atleast_2d(ref_point)})\n",
    "        solver = DiscreteMinimizer(scalarizer)\n",
    "        index = solver.minimize(problem.objectives)[\"x\"]\n",
    "        \n",
    "        res[i] = problem.objectives[index]\n",
    "    return res"
   ]
  },
  {
   "cell_type": "code",
   "execution_count": 7,
   "id": "d762b923-2b28-42c2-b91a-a7cf5d594269",
   "metadata": {},
   "outputs": [
    {
     "name": "stderr",
     "output_type": "stream",
     "text": [
      "Using 200 background data samples could cause slower run times. Consider using shap.sample(data, K) or shap.kmeans(data, K) to summarize the background as K samples.\n"
     ]
    }
   ],
   "source": [
    "missing_data = np.hstack(tuple(np.random.uniform(low=ideal[i], high=nadir[i], size=(200,1)) for i in range(ideal.shape[0])))\n",
    "\n",
    "explainer = shap.KernelExplainer(black_box, missing_data)"
   ]
  },
  {
   "cell_type": "code",
   "execution_count": 17,
   "id": "93c5c48e-9b73-4d32-bdff-afa28918bb33",
   "metadata": {},
   "outputs": [],
   "source": [
    "ref_point = np.array([0.65, 0.44, 0.66])\n",
    "actual = black_box(np.atleast_2d(ref_point))\n",
    "shap_values = np.array(explainer.shap_values(ref_point))"
   ]
  },
  {
   "cell_type": "code",
   "execution_count": 18,
   "id": "2695d26c-2615-41c3-a22d-3e481079bd07",
   "metadata": {},
   "outputs": [
    {
     "data": {
      "text/plain": [
       "('All objectives were improved compared to the desired value.', -1, -1)"
      ]
     },
     "execution_count": 18,
     "metadata": {},
     "output_type": "execute_result"
    }
   ],
   "source": [
    "why_worst(shap_values, ref_point, actual)"
   ]
  },
  {
   "cell_type": "code",
   "execution_count": 19,
   "id": "097195ce-aa03-4a4a-90ad-305e6a111a0d",
   "metadata": {},
   "outputs": [
    {
     "data": {
      "text/plain": [
       "('Since objective 1 and objective 2 are in great conflict, try worsening the value of objective 2 for a better result for objective 1.',\n",
       " -1,\n",
       " 1)"
      ]
     },
     "execution_count": 19,
     "metadata": {},
     "output_type": "execute_result"
    }
   ],
   "source": [
    "how_to_improve_objective_i(shap_values, 0)"
   ]
  },
  {
   "cell_type": "code",
   "execution_count": 21,
   "id": "1829e03a-4e59-4670-87cc-f98671c3a29f",
   "metadata": {},
   "outputs": [
    {
     "name": "stdout",
     "output_type": "stream",
     "text": [
      "Original: [[0.63796297 0.40456098 0.65612618]]\n",
      "After suggestion: [[0.60579285 0.40380867 0.68682181]]\n"
     ]
    }
   ],
   "source": [
    "new_ref_point = np.array([0.65, 0.44, 1.1*0.66])\n",
    "new_actual = black_box(np.atleast_2d(new_ref_point))\n",
    "\n",
    "print(f\"Original: {actual}\")\n",
    "print(f\"After suggestion: {new_actual}\")"
   ]
  },
  {
   "cell_type": "code",
   "execution_count": null,
   "id": "c9c0c5ce-24af-44d9-8436-f533f2076eeb",
   "metadata": {},
   "outputs": [],
   "source": []
  }
 ],
 "metadata": {
  "kernelspec": {
   "display_name": "shap-stuff",
   "language": "python",
   "name": "shap-stuff"
  },
  "language_info": {
   "codemirror_mode": {
    "name": "ipython",
    "version": 3
   },
   "file_extension": ".py",
   "mimetype": "text/x-python",
   "name": "python",
   "nbconvert_exporter": "python",
   "pygments_lexer": "ipython3",
   "version": "3.9.7"
  }
 },
 "nbformat": 4,
 "nbformat_minor": 5
}
